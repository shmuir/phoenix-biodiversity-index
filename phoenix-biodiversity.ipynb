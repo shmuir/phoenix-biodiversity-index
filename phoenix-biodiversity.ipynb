{
 "cells": [
  {
   "cell_type": "markdown",
   "id": "e6500037-6038-448c-b105-4ace558dd763",
   "metadata": {},
   "source": [
    "13 December 2023\n",
    "\n",
    "https://github.com/shmuir/phoenix-biodiversity-index\n",
    "\n",
    "# Biodiversity Intactness Index in Phoenix, AZ\n",
    "\n",
    "## About this Notebook\n",
    "\n",
    "\n",
    "## About the Data\n",
    "\n",
    "\n",
    "### Data Citation\n",
    "\n",
    "\n",
    "## Data Access"
   ]
  },
  {
   "cell_type": "code",
   "execution_count": 1,
   "id": "ad2f7088-d5c5-4edb-bccc-e965a9701dfe",
   "metadata": {
    "tags": []
   },
   "outputs": [],
   "source": [
    "import numpy as np\n",
    "import geopandas as gpd\n",
    "import rioxarray as rioxr\n",
    "import matplotlib.pyplot as plt\n",
    "import pandas as pd\n",
    "\n",
    "from shapely.geometry import Polygon\n",
    "import matplotlib.patches as mpatches # for creating legends\n",
    "\n",
    "\n",
    "# used to access STAC catalogs\n",
    "from pystac_client import Client\n",
    "#used to sign items from the MPC STAC catalog\n",
    "import planetary_computer\n",
    "# other libraries for nice outputs\n",
    "from IPython.display import Image\n",
    "import contextily as cx"
   ]
  },
  {
   "cell_type": "code",
   "execution_count": 2,
   "id": "80b83c16-f8a5-408e-8408-d4224fda25b6",
   "metadata": {
    "tags": []
   },
   "outputs": [],
   "source": [
    "phoenix_census = gpd.read_file('tl_2022_04_cousub/tl_2022_04_cousub.shp')"
   ]
  },
  {
   "cell_type": "code",
   "execution_count": null,
   "id": "0145d08f-e2fd-46db-be14-c69ad53f1ce6",
   "metadata": {
    "tags": []
   },
   "outputs": [],
   "source": [
    "# access catalog\n",
    "catalog = Client.open(\n",
    "    \"https://planetarycomputer.microsoft.com/api/stac/v1\",\n",
    "    modifier=planetary_computer.sign_inplace,\n",
    ")\n",
    "\n",
    "bii_collection = catalog.get_child('io-biodiversity')\n",
    "bii_collection\n",
    "\n",
    "# phoenix bounding box (as a GeoJSON)\n",
    "bbox = {\n",
    "    \"type\": \"Polygon\",\n",
    "    \"coordinates\":[\n",
    "        [\n",
    "            \n",
    "            [-111.17544349576511, 33.867435662315955],\n",
    "            [-112.82552110133373, 33.867435662315955],\n",
    "            [-112.82552110133373, 32.97048235813784],\n",
    "            [-111.17544349576511, 32.97048235813784],\n",
    "            [-111.17544349576511, 33.867435662315955]\n",
    "            \n",
    "        ]\n",
    "    ],\n",
    "}\n",
    "\n",
    "# catalog search\n",
    "search = catalog.search(\n",
    "    collections=['io-biodiversity'],\n",
    "    intersects=bbox)\n",
    "\n",
    "items = search.item_collection()\n",
    "items"
   ]
  },
  {
   "cell_type": "code",
   "execution_count": null,
   "id": "251541a9-00ed-47e3-a585-dafdc49a8652",
   "metadata": {
    "tags": []
   },
   "outputs": [],
   "source": [
    "bii2017 = items[3]\n",
    "bii2020 = items[0]"
   ]
  },
  {
   "cell_type": "code",
   "execution_count": null,
   "id": "6d5c3ac4-a763-4595-a3b2-3597d8b4938b",
   "metadata": {
    "tags": []
   },
   "outputs": [],
   "source": [
    "#Image(url=bii2017.assets['rendered_preview'].href, width=500)"
   ]
  },
  {
   "cell_type": "code",
   "execution_count": null,
   "id": "c2d6e394-bddb-4391-a004-59447ecba838",
   "metadata": {
    "tags": []
   },
   "outputs": [],
   "source": [
    "bii2017.assets"
   ]
  },
  {
   "cell_type": "code",
   "execution_count": null,
   "id": "5056c9d4-546c-44c7-9df2-4031e55c3144",
   "metadata": {
    "tags": []
   },
   "outputs": [],
   "source": [
    "phoenix2017 = rioxr.open_rasterio(bii2017.assets['data'].href)\n",
    "phoenix2020 = rioxr.open_rasterio(bii2020.assets['data'].href)\n",
    "\n",
    "phoenix2017"
   ]
  },
  {
   "cell_type": "code",
   "execution_count": null,
   "id": "19e471be-aebc-4f38-a85f-2d95dc994641",
   "metadata": {
    "tags": []
   },
   "outputs": [],
   "source": [
    "phoenix2017 = phoenix2017.squeeze()\n",
    "phoenix2017 = phoenix2017.drop('band')\n",
    "\n",
    "phoenix2020 = phoenix2020.squeeze()\n",
    "phoenix2020 = phoenix2020.drop('band')"
   ]
  },
  {
   "cell_type": "code",
   "execution_count": null,
   "id": "c1dfe911-fb40-4129-a4df-19dcf353aaae",
   "metadata": {
    "tags": []
   },
   "outputs": [],
   "source": [
    "#phoenix.plot()"
   ]
  },
  {
   "cell_type": "code",
   "execution_count": null,
   "id": "2f15e13b-73e4-40d7-bf1a-189606162bc0",
   "metadata": {
    "tags": []
   },
   "outputs": [],
   "source": [
    "phoenix_census.NAME.unique"
   ]
  },
  {
   "cell_type": "code",
   "execution_count": null,
   "id": "ae040b0d-bb26-42aa-be6b-a3f4712d2d08",
   "metadata": {
    "tags": []
   },
   "outputs": [],
   "source": [
    "phoenix_geom = phoenix_census[phoenix_census.NAME == 'Phoenix']"
   ]
  },
  {
   "cell_type": "code",
   "execution_count": null,
   "id": "6b794f04-e79e-4fa2-8fa3-03000e0606fb",
   "metadata": {
    "tags": []
   },
   "outputs": [],
   "source": [
    "ax = phoenix_geom.plot(facecolor=\"none\",\n",
    "                   edgecolor=\"red\",\n",
    "                   linewidth=2\n",
    "                  )\n",
    "cx.add_basemap(ax,\n",
    "               crs=phoenix_census.crs.to_string(),\n",
    "               source=cx.providers.CartoDB.Voyager\n",
    "              )"
   ]
  },
  {
   "cell_type": "markdown",
   "id": "ec113b3d-1f7e-43e0-b75c-411081af4ccc",
   "metadata": {},
   "source": [
    "## Percent "
   ]
  },
  {
   "cell_type": "code",
   "execution_count": null,
   "id": "ea2f2deb-2e03-4b81-ae7f-71807002d0e0",
   "metadata": {
    "tags": []
   },
   "outputs": [],
   "source": [
    "phoenix2017_filter = (phoenix2017 >= 0.75).astype('int')\n",
    "phoenix2020_filter = (phoenix2020 >= 0.75).astype('int')"
   ]
  },
  {
   "cell_type": "code",
   "execution_count": null,
   "id": "04d9a642-e568-4771-9187-d2009fd7b734",
   "metadata": {
    "tags": []
   },
   "outputs": [],
   "source": [
    "pix_counts_2017 = {'code' : np.unique(phoenix2017_filter, return_counts = True)[0],\n",
    "     'num_pix' : np.unique(phoenix2017_filter, return_counts = True)[1],\n",
    "     }\n",
    "\n",
    "# create data frame\n",
    "pix_counts_2017 = pd.DataFrame(pix_counts_2017)\n",
    "pix_counts_2017 = pix_counts_2017[pix_counts_2017.code == 1]\n",
    "pix_counts_2017"
   ]
  },
  {
   "cell_type": "code",
   "execution_count": null,
   "id": "9ca57cdc-3a46-46f6-a093-a9d1aa008c97",
   "metadata": {
    "tags": []
   },
   "outputs": [],
   "source": [
    "pix_counts_2020 = {'code' : np.unique(phoenix2020_filter, return_counts = True)[0],\n",
    "     'num_pix' : np.unique(phoenix2020_filter, return_counts = True)[1],\n",
    "     }\n",
    "\n",
    "# create data frame\n",
    "pix_counts_2020 = pd.DataFrame(pix_counts_2020)\n",
    "pix_counts_2020 = pix_counts_2020[pix_counts_2020.code == 1]\n",
    "pix_counts_2020"
   ]
  },
  {
   "cell_type": "code",
   "execution_count": null,
   "id": "b6bb3d43-c0e7-4fc1-ae07-1e233c121480",
   "metadata": {
    "tags": []
   },
   "outputs": [],
   "source": [
    "(pix_counts_2017.num_pix / (phoenix2017.size)) * 100"
   ]
  },
  {
   "cell_type": "code",
   "execution_count": null,
   "id": "6b9cdaeb-4fe8-4d9a-83ff-9b924eacde27",
   "metadata": {
    "tags": []
   },
   "outputs": [],
   "source": [
    "(pix_counts_2020.num_pix / (phoenix2020.size)) * 100"
   ]
  },
  {
   "cell_type": "markdown",
   "id": "65e3ca26-fe8d-4860-a228-c70b7c49d128",
   "metadata": {},
   "source": [
    "## Mapping"
   ]
  },
  {
   "cell_type": "code",
   "execution_count": null,
   "id": "ef4aa639-b63e-458b-9c7d-30be15466c8d",
   "metadata": {
    "tags": []
   },
   "outputs": [],
   "source": [
    "lost_area = (phoenix2017_filter - phoenix2020_filter)\n",
    "#lost_area.where(lost_area == 1).plot()"
   ]
  },
  {
   "cell_type": "code",
   "execution_count": 16,
   "id": "d8b1ea19-6f74-4da9-84c0-aa18eb2fc137",
   "metadata": {
    "tags": []
   },
   "outputs": [
    {
     "data": {
      "text/plain": [
       "array([ 1., nan])"
      ]
     },
     "execution_count": 16,
     "metadata": {},
     "output_type": "execute_result"
    }
   ],
   "source": [
    "lost_area = lost_area.where(lost_area == 1)  "
   ]
  },
  {
   "cell_type": "code",
   "execution_count": null,
   "id": "446b13e9-9842-4b80-8116-2d26cbc54b6b",
   "metadata": {
    "tags": []
   },
   "outputs": [],
   "source": [
    "fig, ax = plt.subplots(figsize=(12,8)) # initialize plot\n",
    "\n",
    "#ax.axis(\"off\") # remove axis\n",
    "\n",
    "phoenix2020.plot(ax=ax) # plot lost area\n",
    "\n",
    "lost_area.plot(ax=ax, color='red')\n",
    "area_patch = mpatches.Patch(color='red', # change color to red\n",
    "                          label='Area with BII >= 0.75 lost from 2017 to 2020') # update label\n",
    "\n",
    "\n",
    "ax.legend(handles = [area_patch], frameon=False, loc = (0.75, 0.95)) # add legend\n",
    "\n",
    "plt.show()"
   ]
  }
 ],
 "metadata": {
  "kernelspec": {
   "display_name": "Python 3 (ipykernel)",
   "language": "python",
   "name": "python3"
  },
  "language_info": {
   "codemirror_mode": {
    "name": "ipython",
    "version": 3
   },
   "file_extension": ".py",
   "mimetype": "text/x-python",
   "name": "python",
   "nbconvert_exporter": "python",
   "pygments_lexer": "ipython3",
   "version": "3.11.4"
  }
 },
 "nbformat": 4,
 "nbformat_minor": 5
}
